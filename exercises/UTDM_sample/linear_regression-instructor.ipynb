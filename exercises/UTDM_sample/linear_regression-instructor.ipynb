{
  "nbformat": 4,
  "nbformat_minor": 0,
  "metadata": {
    "kernelspec": {
      "display_name": "Python 3",
      "language": "python",
      "name": "python3"
    },
    "language_info": {
      "codemirror_mode": {
        "name": "ipython",
        "version": 3
      },
      "file_extension": ".py",
      "mimetype": "text/x-python",
      "name": "python",
      "nbconvert_exporter": "python",
      "pygments_lexer": "ipython3",
      "version": "3.7.3"
    },
    "colab": {
      "name": "linear_regression-instructor.ipynb",
      "provenance": [],
      "collapsed_sections": []
    }
  },
  "cells": [
    {
      "cell_type": "markdown",
      "metadata": {
        "id": "d7zeO3bPzVq6"
      },
      "source": [
        "# 課題 線形回帰\n",
        "\n",
        "配点\n",
        "- Q1 2P\n",
        "- Q2 2P\n",
        "- Q3 6P"
      ]
    },
    {
      "cell_type": "code",
      "metadata": {
        "id": "pgwPWgjYz0FA"
      },
      "source": [
        "# This is helper cell that defines code checking (testing) function Check()\n",
        "# Please run it once, but you do not need to understand it.\n",
        "!pip install prog_edu_assistant_tools\n",
        "import re\n",
        "import sys\n",
        "import jinja2\n",
        "from IPython.core import display\n",
        "from google.colab import _message as google_message\n",
        "from prog_edu_assistant_tools.magics import report, autotest, CaptureOutput\n",
        "def GetNotebook():\n",
        "  \"\"\"Downloads the ipynb source of Colab notebook\"\"\"\n",
        "  notebook = google_message.blocking_request(\n",
        "    \"get_ipynb\", request=\"\", timeout_sec=120)[\"ipynb\"]\n",
        "  return notebook\n",
        "\n",
        "def RunInlineTests(submission_source, inlinetests):\n",
        "  \"\"\"Runs an inline test.\"\"\"\n",
        "  errors = []\n",
        "  for test_name, test_source in inlinetests.items():\n",
        "    #print(f'Running inline test {test_name}:\\n{test_source}', file=sys.stderr)\n",
        "    with CaptureOutput() as (stdout, stderr):\n",
        "      try:\n",
        "        env = {}\n",
        "        exec(submission_source, globals(), env)\n",
        "        exec(test_source, globals(), env)\n",
        "      except AssertionError as e:\n",
        "        errors.append(str(e))\n",
        "      if len(stderr.getvalue()) > 0:\n",
        "        errors.append('STDERR:' + stderr.getvalue())\n",
        "  if len(errors) > 0:\n",
        "    results = {'passed': False, 'error': '\\n'.join(errors)}\n",
        "  else:\n",
        "    results = {'passed': True}\n",
        "  template_source = \"\"\"\n",
        "  <h4 style='color: #387;'>Your submission</h4>\n",
        "  <pre style='background: #F0F0F0; padding: 3pt; margin: 4pt; border: 1pt solid #DDD; border-radius: 3pt;'>{{ formatted_source }}</pre>\n",
        "  <h4 style='color: #387;'>Results</h4>\n",
        "  {% if 'passed' in results and results['passed'] %}\n",
        "  &#x2705;\n",
        "  Looks OK.\n",
        "  {% elif 'error' in results %}\n",
        "  &#x274c;\n",
        "  {{results['error'] | e}}\n",
        "  {% else %}\n",
        "  &#x274c; Something is wrong.\n",
        "  {% endif %}\"\"\"\n",
        "  template = jinja2.Template(template_source)\n",
        "  html = template.render(formatted_source=submission_source, results=results)\n",
        "  return html\n",
        "\n",
        "def Check(exercise_id):\n",
        "  \"\"\"Checks one exercise against embedded inline tests.\"\"\"\n",
        "  def _get_exercise_id(cell):\n",
        "    if 'metadata' in cell and 'exercise_id' in cell['metadata']:\n",
        "      return cell['metadata']['exercise_id']\n",
        "    if 'source' not in cell or 'cell_type' not in cell or cell['cell_type'] != 'code':\n",
        "      return None\n",
        "    source = ''.join(cell['source'])\n",
        "    m = re.search('(?m)^# *EXERCISE_ID: [\\'\"]?([a-zA-Z0-9_.-]*)[\\'\"]? *\\n', source)\n",
        "    if m:\n",
        "      return m.group(1)\n",
        "    return None\n",
        "  notebook = GetNotebook()\n",
        "  # 1. Find the first cell with specified exercise ID.\n",
        "  found = False\n",
        "  for (i, cell) in enumerate(notebook['cells']):\n",
        "    if _get_exercise_id(cell) == exercise_id:\n",
        "      found = True\n",
        "      break\n",
        "  if not found:\n",
        "    raise Exception(f'exercise {exercise_id} not found')\n",
        "\n",
        "  submission_source = ''.join(cell['source'])  # extract the submission cell\n",
        "  submission_source = re.sub(r'^%%(solution|submission)[ \\t]*\\n', '', submission_source)  # cut %%solution magic\n",
        "  inlinetests = {}\n",
        "  if 'metadata' in cell and 'inlinetests' in cell['metadata']:\n",
        "    inlinetests = cell['metadata']['inlinetests']\n",
        "  if len(inlinetests) == 0:\n",
        "    j = i+1\n",
        "    # 2. If inline tests were not present in metadata, find the inline tests\n",
        "    # that follow this exercise ID.\n",
        "    while j < len(notebook['cells']):\n",
        "      cell = notebook['cells'][j]\n",
        "      if 'source' not in cell or 'cell_type' not in cell or cell['cell_type'] != 'code':\n",
        "        j += 1\n",
        "        continue\n",
        "      id = _get_exercise_id(cell)\n",
        "      source = ''.join(cell['source'])\n",
        "      if id == exercise_id:\n",
        "        # 3. Pick the last marked cell as submission cell.\n",
        "        submission_source = source  # extract the submission cell\n",
        "        submission_source = re.sub(r'^%%(solution|submission)[ \\t]*\\n', '', submission_source)  # cut %%solution magic\n",
        "        j += 1\n",
        "        continue\n",
        "      m = re.match(r'^%%inlinetest[ \\t]*([a-zA-Z0-9_]*)[ \\t]*\\n', source)\n",
        "      if m:\n",
        "        test_name = m.group(1)\n",
        "        test_source = source[m.end(0):]  # cut %%inlinetest magic\n",
        "        # 2a. Store the inline test.\n",
        "        inlinetests[test_name] = test_source\n",
        "      if id is not None and id != exercise_id:\n",
        "        # 4. Stop at the next exercise_id.\n",
        "        break\n",
        "      j += 1\n",
        "  html = RunInlineTests(submission_source, inlinetests)\n",
        "  return display.HTML(html)"
      ],
      "execution_count": null,
      "outputs": []
    },
    {
      "cell_type": "code",
      "metadata": {
        "id": "8tytcW-4z47F"
      },
      "source": [
        "# MASTER ONLY\n",
        "\n",
        "%load_ext prog_edu_assistant_tools.magics\n",
        "from prog_edu_assistant_tools.magics import report, autotest, CaptureOutput"
      ],
      "execution_count": null,
      "outputs": []
    },
    {
      "cell_type": "code",
      "metadata": {
        "id": "ypIG2AD6zVrC"
      },
      "source": [
        "# モジュールのインポート\n",
        "import numpy as np\n",
        "import pandas as pd\n",
        "import matplotlib.pyplot as plt\n",
        "%matplotlib inline"
      ],
      "execution_count": null,
      "outputs": []
    },
    {
      "cell_type": "code",
      "metadata": {
        "id": "Lg_jqa5_zVrD"
      },
      "source": [
        "# Colaboratoryでは以下を実行して必要なファイルをダウンロード\n",
        "!wget https://raw.githubusercontent.com/UTDataMining/2020A/master/ex8/iris.csv"
      ],
      "execution_count": null,
      "outputs": []
    },
    {
      "cell_type": "markdown",
      "metadata": {
        "id": "3J6EFW6_zVrD"
      },
      "source": [
        "## Q1 特徴間の相関係数"
      ]
    },
    {
      "cell_type": "markdown",
      "metadata": {
        "id": "oMti15BczVrD"
      },
      "source": [
        "irisデータセットの特徴量`petal_length`と`petal_width`の関係を散布図で可視化すると以下のように2つの特徴量間に関係があることがわかります。"
      ]
    },
    {
      "cell_type": "code",
      "metadata": {
        "id": "6J7_W8AqzVrD",
        "outputId": "6a0d6bc1-9c5a-497d-9eb4-709a1181bc96"
      },
      "source": [
        "iris = pd.read_csv('iris.csv')\n",
        "\n",
        "plt.figure(figsize=(7,5))\n",
        "plt.xlabel('petal_length')\n",
        "plt.ylabel('petal_width')\n",
        "plt.scatter(iris['petal_length'], iris['petal_width'], c='blue');"
      ],
      "execution_count": null,
      "outputs": [
        {
          "output_type": "display_data",
          "data": {
            "image/png": "[encoded data removed]",
            "text/plain": [
              "<Figure size 504x360 with 1 Axes>"
            ]
          },
          "metadata": {
            "tags": [],
            "needs_background": "light"
          }
        }
      ]
    },
    {
      "cell_type": "markdown",
      "metadata": {
        "id": "j6hgnh4ezVrF"
      },
      "source": [
        "irisデータセットの特徴量`petal_length`と`petal_width`のデータを`NumPy`の配列として受け取って、それらの相関係数を返す以下の関数`petal_corr()`を完成させてください。"
      ]
    },
    {
      "cell_type": "code",
      "metadata": {
        "id": "6bbG0LUDzVrF"
      },
      "source": [
        "%%solution\n",
        "# EXERCISE_ID: exercise_1\n",
        "def petal_corr(x,y):\n",
        "  # BEGIN SOLUTION\n",
        "  return np.sum((x-np.mean(x))*(y-np.mean(y)))/(len(x)*np.std(x)*np.std(y))\n",
        "  # END SOLUTION\n",
        "  \"\"\" # BEGIN PROMPT\n",
        "  return ...\n",
        "  \"\"\" # END PROMPT"
      ],
      "execution_count": null,
      "outputs": []
    },
    {
      "cell_type": "markdown",
      "metadata": {
        "id": "KxVTh3f7zVrF"
      },
      "source": [
        "関数`petal_corr()`が完成したら以下のセルを実行して動作を確認してください。以下では`pandas`シリーズオブジェクトの`values`属性を用いて特徴量データを`NumPy`の配列にして関数`petal_corr()`の引数に渡しています。相関係数は$\\simeq0.96$となります。"
      ]
    },
    {
      "cell_type": "code",
      "metadata": {
        "id": "akV_DitNzVrG"
      },
      "source": [
        "X=iris[['petal_length']].values # 入力X\n",
        "y=iris[['petal_width']].values # 出力y"
      ],
      "execution_count": null,
      "outputs": []
    },
    {
      "cell_type": "code",
      "metadata": {
        "id": "oZloyTfzzVrG"
      },
      "source": [
        "petal_corr(X, y)"
      ],
      "execution_count": null,
      "outputs": []
    },
    {
      "cell_type": "code",
      "metadata": {
        "id": "uN-YY6oOzVrG"
      },
      "source": [
        "%%inlinetest InlineTest_1\n",
        "\n",
        "assert 'petal_corr' in globals(), f\"Have you defined the function 'petal_corr'?\"\n",
        "assert str(petal_corr.__class__) == \"<class 'function'>\", f\"Have you defined a function 'peta_corr'? Found a {petal_corr.__class__} instead\"\n",
        "try:\n",
        "    assert int(petal_corr(X, y)*100) == 96, f\"Your function 'petal_corr' returns {int(petal_corr(X, y)*100)}, while the expected answer is 96\"\n",
        "except AssertionError as e:\n",
        "    raise e\n",
        "except Exception as e:\n",
        "    assert False, f\"Your function 'petal_corr' does not accept 'X, y' and raises an exception: {e}. Please try to pass `X, y` to your function.\""
      ],
      "execution_count": null,
      "outputs": []
    },
    {
      "cell_type": "code",
      "metadata": {
        "id": "m7gWOZ5b2MzQ"
      },
      "source": [
        "result, log = %autotest InlineTest_1\n",
        "print(result.results)\n",
        "report(InlineTest_1, results=result.results, source=submission_source.source)"
      ],
      "execution_count": null,
      "outputs": []
    },
    {
      "cell_type": "code",
      "metadata": {
        "id": "-XczkAbv2Omo"
      },
      "source": [
        "# Run this cell to check your solution.\n",
        "# If you get an error 'Check not defined', make sure you have run all preceding\n",
        "# cells once (Runtime -> Run before)\n",
        "Check('exercise_1')"
      ],
      "execution_count": null,
      "outputs": []
    },
    {
      "cell_type": "markdown",
      "metadata": {
        "id": "mJ_NtXvRzVrG"
      },
      "source": [
        "## Q2 特徴量の標準化\n",
        "\n",
        "以下では、線形回帰により特徴量`petal_length`から特徴量`petal_width`を予測するような仮説関数のパラメータを学習することを考えます。\n",
        "\n",
        "まず準備として、特徴量`petal_length`を入力$X$、特徴量`petal_length`を出力$y$としてそれぞれを標準化します。\n",
        "\n",
        "`NumPy`の任意の行数、列数の2次元配列を受け取り、各要素の値をその列の平均値と標準偏差を用いて標準化した配列を返す`normalizer()`関数を完成させてください。"
      ]
    },
    {
      "cell_type": "code",
      "metadata": {
        "id": "20aFzp3IzVrH"
      },
      "source": [
        "%%solution\n",
        "# EXERCISE_ID: exercise_2\n",
        "def normalizer(mat):\n",
        "  # BEGIN SOLUTION\n",
        "  return (mat-np.mean(mat, axis=0))/np.std(mat, axis=0)\n",
        "  # END SOLUTION\n",
        "  \"\"\" # BEGIN PROMPT\n",
        "  return ...\n",
        "  \"\"\" # END PROMPT"
      ],
      "execution_count": null,
      "outputs": []
    },
    {
      "cell_type": "markdown",
      "metadata": {
        "id": "5Lx8U84FzVrH"
      },
      "source": [
        "`normalizer()`関数が完成したら、以下のセルを実行して標準化された`X`、`y`それぞれのすべての要素の整数値の和を求めることで動作を確認してください。それぞれのすべての要素の整数値の和は`-25`、`-19`となります。（コードによってはそうならない場合もあります）"
      ]
    },
    {
      "cell_type": "code",
      "metadata": {
        "id": "7PVVeU5gzVrH"
      },
      "source": [
        "print(normalizer(X).astype(np.int64).sum())\n",
        "print(normalizer(y).astype(np.int64).sum())"
      ],
      "execution_count": null,
      "outputs": []
    },
    {
      "cell_type": "code",
      "metadata": {
        "id": "VeCa3vsBzVrH"
      },
      "source": [
        "%%inlinetest InlineTest_2\n",
        "\n",
        "assert 'normalizer' in globals(), f\"Have you defined the function 'normalizer'?\"\n",
        "assert str(normalizer.__class__) == \"<class 'function'>\", f\"Have you defined a function 'normalizer'? Found a {normalizer.__class__} instead\"\n",
        "try:\n",
        "    assert normalizer(X).astype(np.int64).sum() == -25, f\"Your function 'normalizer' returns {normalizer(X).astype(np.int64).sum()}, while the expected answer is -25\"\n",
        "except AssertionError as e:\n",
        "    raise e\n",
        "except Exception as e:\n",
        "    assert False, f\"Your function 'normalizer' does not accept 'X' and raises an exception: {e}. Please try to pass `X` to your function.\"\n",
        "try:\n",
        "    assert normalizer(y).astype(np.int64).sum() == -19, f\"Your function 'normalizer' returns {normalizer(y).astype(np.int64).sum()}, while the expected answer is -19\"\n",
        "except AssertionError as e:\n",
        "    raise e\n",
        "except Exception as e:\n",
        "    assert False, f\"Your function 'normalizer' does not accept 'y' and raises an exception: {e}. Please try to pass `y` to your function.\""
      ],
      "execution_count": null,
      "outputs": []
    },
    {
      "cell_type": "code",
      "metadata": {
        "id": "xckgWP1Y30ki"
      },
      "source": [
        "result, log = %autotest InlineTest_2\n",
        "print(result.results)\n",
        "report(InlineTest_1, results=result.results, source=submission_source.source)"
      ],
      "execution_count": null,
      "outputs": []
    },
    {
      "cell_type": "code",
      "metadata": {
        "id": "PBmKChV_375q"
      },
      "source": [
        "# Run this cell to check your solution.\n",
        "# If you get an error 'Check not defined', make sure you have run all preceding\n",
        "# cells once (Runtime -> Run before)\n",
        "Check('exercise_2')"
      ],
      "execution_count": null,
      "outputs": []
    },
    {
      "cell_type": "markdown",
      "metadata": {
        "id": "SQel5I7DzVrI"
      },
      "source": [
        "次に、入力の各データにバイアス項($x_0=1$)を追加するため、入力の先頭列に1を要素とする列ベクトルを挿入します。これにより、入力,　出力はデータ数を$m$として以下のような行列（$m \\times 2$) とベクトル($m \\times 1$)になります。\n",
        "\n",
        "$\n",
        "  X = \\left(\n",
        "    \\begin{array}{cc}\n",
        "      1 &   x^{(1)} \\\\\n",
        "      1 &   x^{(2)}  \\\\\n",
        "      ... & ... \\\\\n",
        "      1 &  x^{(m)}\n",
        "    \\end{array}\n",
        "  \\right)\n",
        "$\n",
        "\n",
        "$x^{(i)}$は標準化された特徴量petal_length。\n",
        "\n",
        "$\n",
        "  y = \\left(\n",
        "    \\begin{array}{c}\n",
        "       y^{(1)}  \\\\\n",
        "      ...\\\\\n",
        "        y^{(m)}  \\\\\n",
        "    \\end{array}\n",
        "  \\right)\n",
        "$\n",
        "\n",
        "$y^{(i)}$は標準化された特徴量petal_width。"
      ]
    },
    {
      "cell_type": "code",
      "metadata": {
        "id": "rviqQIwGzVrI"
      },
      "source": [
        "X_norm = normalizer(X) # 入力の標準化\n",
        "y_norm = normalizer(y) # 出力の標準化\n",
        "\n",
        "X_norm = np.hstack([np.ones((X.shape[0],1)), X_norm]) # バイアス項の追加\n",
        "\n",
        "print(X_norm[:10,:]) # 先頭10行のデータ\n",
        "print(y_norm[:10]) # 先頭10行のデータ"
      ],
      "execution_count": null,
      "outputs": []
    },
    {
      "cell_type": "markdown",
      "metadata": {
        "id": "bftWJgGIzVrI"
      },
      "source": [
        "## Q3 最急降下法\n",
        "\n",
        "以下では、最急降下法により、訓練データセットを元に入力から出力を予測する仮説関数のパラメータを学習する`graddes`関数を実装します。\n",
        "\n",
        "`graddes`関数では第1引数に入力のデータ行列（データ数($m$)$\\times$(特徴量数+バイアス)($n$))、第2引数に入力の各データに対する出力（正解）のベクトル（$m\\times1$）、第3引数に学習率、第4引数に学習の繰り返し（各繰り返しをエポックと呼ぶ）の回数を受け取ります。\n",
        "\n",
        "これらの引数を元に、`graddes`関数ではパラメータの学習を行い、以下を返します\n",
        "- エポックごとのコスト関数の値を要素とするリスト\n",
        "- 最終的なパラメータの値を要素とする配列（$n\\times1$）を返します。\n",
        "\n",
        "\n",
        "\n",
        "パラメータを$\\theta=(\\theta_0, \\theta_1, ..., \\theta_{n-1})^T$\n",
        "\n",
        "仮説関数を$h(x)=\\theta_0+\\theta_1x_1+\\theta_2x_2+....+\\theta_{n-1}x_{n-1}$\n",
        "\n",
        "入力を$\n",
        "  X = \\left(\n",
        "    \\begin{array}{cccc}\n",
        "      x_0^{(1)} &   x_1^{(1)} & ... &   x_{n-1}^{(1)}  \\\\\n",
        "      ... & ...& ...&...\\\\\n",
        "      x_0^{(m)} &  x_1^{(m)} & ... &   x_{n-1}^{(m)}  \\\\\n",
        "    \\end{array}\n",
        "  \\right)\n",
        "$ \n",
        "\n",
        "$X$において$x_0^{(i)}=1$\n",
        "\n",
        "出力を$y=(y^{(1)}, y^{(2)}, ..., y^{(m)})^T$\n",
        "\n",
        "とすると、最急降下法ではコスト関数を\n",
        "\n",
        "$J(\\theta)=\\frac{1}{2m}\\Sigma_{i=1}^m (h(x^{(i)})-y^{(i)})^2$\n",
        "\n",
        "として、入力$X$の各特徴量$x_j$に対するパラメータ$\\theta_j$を以下の様に更新していきます。\n",
        "\n",
        "$\\theta_j:= \\theta_j - \\alpha \\frac{\\partial J(\\theta)}{\\partial \\theta_j} =  \\theta_j - \\frac{\\alpha}{m} \\Sigma_{i=1}^m ((h(x^{(i)})-y^{(i)})x^{(i)}_j)$\n",
        "\n",
        "パラメータ全体を以下のように一度に更新することもできます。\n",
        "\n",
        "$\\theta := \\theta - \\frac{\\alpha}{m}X^T(X\\theta-y)$\n",
        "\n",
        "入力が1特徴量（変数）の時は、バイアス項に対するパラメータを$\\theta_0$、入力変数に対するパラメータを$\\theta_1$としてパラメータは以下の様に更新されます。\n",
        "\n",
        "$\\theta_0 := \\theta_0 - \\alpha  \\Sigma_{i=1}^m (h(x^{(i)})-y^{(i)})/m$ \n",
        "\n",
        "$\\theta_1 := \\theta_1 - \\alpha  \\Sigma_{i=1}^m ((h(x^{(i)})-y^{(i)})x^{(i)})/m$\n",
        "\n",
        "具体的に、`graddes`関数では以下の手順によりパラメータの学習を行います。\n",
        "\n",
        "- 引数`n_iter`で指定されたエポックの回数だけ以下を繰り返す    \n",
        "\n",
        "     - すべてのm個のデータについて以下を求める\n",
        "        \n",
        "        - 入力データ$x^{(i)}$について仮説関数$h(x^{(i)})$の値を求める\n",
        "        \n",
        "        - 出力$y^{(i)}$との誤差$h(x^{(i)})-y^{(i)}$の値を求める\n",
        "    \n",
        "     - すべてのm個のデータの誤差を用いてコスト関数$J(\\theta)$の値を求め、各エポックのコスト関数の値を要素とするリスト`costs`に追加\n",
        " \n",
        "     - すべてのm個のデータの誤差を用いて各パラメータ$\\theta_j(j=0,..,n-1)$を更新し、パラメータの値を要素とする配列`w`を更新\n",
        "          - `w[0,0]`$:=$($x_0$に対するパラメータ$\\theta_0$), \n",
        "          - ...,\n",
        "          - `w[n-1,0]`$:=$($x_{n-1}$に対するパラメータ$\\theta_{n-1}$)\n",
        "          \n",
        " すべての繰り返しが終了したらリスト`costs`と配列`w`を返す。\n",
        " \n",
        " 上記に従って、`graddes`関数を完成させてください。"
      ]
    },
    {
      "cell_type": "code",
      "metadata": {
        "id": "4HXYwxsTzVrJ"
      },
      "source": [
        "%%solution\n",
        "# EXERCISE_ID: exercise_3\n",
        "def graddes(X, y, alpha, n_iter):  \n",
        "    m = X.shape[0] # データ数\n",
        "    n =  X.shape[1] # 次元（特徴量+バイアス）数\n",
        "    \n",
        "    costs=[] # エポックごとのコスト関数の値を入れるリスト\n",
        "    w = np.zeros((n,1)) #  各特徴量に対するパラメータ（重み）の初期化\n",
        "    \n",
        "    for i in range(n_iter):\n",
        "      # BEGIN SOLUTION\n",
        "      f = np.dot(X, w)\n",
        "      errors= f-y\n",
        "      w=w-alpha*np.dot(X.T,errors)/m        \n",
        "      cost=np.sum(errors**2)/(2*m)\n",
        "      costs.append(cost)\n",
        "      # END SOLUTION\n",
        "      \"\"\" # BEGIN PROMPT\n",
        "      ...\n",
        "      \"\"\" # END PROMPT\n",
        "        \n",
        "    return costs, w"
      ],
      "execution_count": null,
      "outputs": []
    },
    {
      "cell_type": "markdown",
      "metadata": {
        "id": "QADqaFvnzVrJ"
      },
      "source": [
        "`graddes`関数が完成したら以下のセルを実行して動作を確認してください。上記のirisデータセットの特徴量`petal_length`を入力、特徴量`petal_length`を出力とした訓練データセットを与え、学習率を0.05、学習のエポック数を20とした時の最終的なコスト関数の値は$\\simeq 0.102$となります。"
      ]
    },
    {
      "cell_type": "code",
      "metadata": {
        "id": "Itl2FvepzVrJ"
      },
      "source": [
        "n_iter=20\n",
        "alpha=0.05\n",
        "costs, w = graddes(X_norm, y_norm, alpha, n_iter)\n",
        "print(costs[-1]) # 100エポックでのコスト関数の値\n",
        "print(w) # 推定されたパラメータ"
      ],
      "execution_count": null,
      "outputs": []
    },
    {
      "cell_type": "code",
      "metadata": {
        "id": "TnvpCifdzVrJ"
      },
      "source": [
        "%%inlinetest InlineTest_3\n",
        "\n",
        "assert 'graddes' in globals(), f\"Have you defined the function 'graddes'?\"\n",
        "assert str(graddes.__class__) == \"<class 'function'>\", f\"Have you defined a function 'graddes'? Found a {graddes.__class__} instead\"\n",
        "try:\n",
        "    assert int(costs[-1]*1000) == 102, f\"Your function 'graddes' returns {int(costs[-1]*1000)}, while the expected answer is 102\"\n",
        "except AssertionError as e:\n",
        "    raise e\n",
        "except Exception as e:\n",
        "    assert False, f\"Your function 'graddes' does not accept 'X_norm, y_norm' and raises an exception: {e}. Please try to pass `X_norm, y_norm` to your function.\""
      ],
      "execution_count": null,
      "outputs": []
    },
    {
      "cell_type": "code",
      "metadata": {
        "id": "rrweWlrE5uOg"
      },
      "source": [
        "result, log = %autotest InlineTest_3\n",
        "print(result.results)\n",
        "report(InlineTest_1, results=result.results, source=submission_source.source)"
      ],
      "execution_count": null,
      "outputs": []
    },
    {
      "cell_type": "code",
      "metadata": {
        "id": "BFHotaEB5x2W"
      },
      "source": [
        "# Run this cell to check your solution.\n",
        "# If you get an error 'Check not defined', make sure you have run all preceding\n",
        "# cells once (Runtime -> Run before)\n",
        "Check('exercise_3')"
      ],
      "execution_count": null,
      "outputs": []
    },
    {
      "cell_type": "markdown",
      "metadata": {
        "id": "fUwCs7x9zVrK"
      },
      "source": [
        "以下では、パラメータ推定の過程の各エポックとコスト関数の値の関係を示しています。パラメータの学習が進むにつれてコスト関数の値が減少していくことがわかります。"
      ]
    },
    {
      "cell_type": "code",
      "metadata": {
        "id": "C_MoHAkYzVrK"
      },
      "source": [
        "plt.figure(figsize=(7,5))\n",
        "plt.ylabel('Cost')\n",
        "plt.xlabel('Iteration');\n",
        "plt.plot(range(1,n_iter+1),costs);"
      ],
      "execution_count": null,
      "outputs": []
    },
    {
      "cell_type": "markdown",
      "metadata": {
        "id": "pGZMVAdrzVrK"
      },
      "source": [
        "学習率0.05、学習のエポック数20として学習されたパラメータ$\\theta_0, \\theta_1$を用いて特徴量`petal_length`を入力$x$、特徴量`petal_length`を出力$y$とした時の直線$y=\\theta_0+\\theta_1x$は以下のようになります。"
      ]
    },
    {
      "cell_type": "code",
      "metadata": {
        "id": "E1cLYigczVrK"
      },
      "source": [
        "# 回帰直線のプロット\n",
        "def lineplot(X,y,w):\n",
        "    plt.figure(figsize=(7,5))\n",
        "    plt.xlabel('petal_length')\n",
        "    plt.ylabel('petal_width')\n",
        "    plt.scatter(X[:,1],y[:,0],c='blue')\n",
        "    plt.plot(X[:,1], np.dot(X,w)[:,0], color='red');\n",
        "\n",
        "lineplot(X_norm, y_norm, w)"
      ],
      "execution_count": null,
      "outputs": []
    },
    {
      "cell_type": "markdown",
      "metadata": {
        "id": "8IzZenZXzVrK"
      },
      "source": [
        "また、この時のコスト関数$J(\\theta)$とパラメータ$\\theta_0, \\theta_1$は以下のようになります。"
      ]
    },
    {
      "cell_type": "code",
      "metadata": {
        "id": "topMGS16zVrL"
      },
      "source": [
        "from mpl_toolkits.mplot3d import Axes3D\n",
        "\n",
        "# コスト関数のプロット\n",
        "def costplot(X, y, w, cost):\n",
        "    w0, w1 = np.meshgrid(np.arange(-3.0, 3.0, 0.1), np.arange(-3.0, 3.0, 0.1))\n",
        "    J=np.zeros(w0.shape)\n",
        "    for i in range(w0.shape[0]):\n",
        "        for j in range(w0.shape[1]):\n",
        "            J[i,j] = np.sum((np.dot(X, np.array([[w0[i,j]],[w1[i,j]]]))-y)**2)/(2*X.shape[0])\n",
        "    fig = plt.figure(figsize=(10,7))\n",
        "    ax = fig.add_subplot(111, projection=\"3d\")\n",
        "    ax.set_xlabel(\"theta0\")\n",
        "    ax.set_ylabel(\"theta1\")\n",
        "    ax.scatter(w[0,0], w[1,0], cost, s=100, c='red')\n",
        "    ax.plot_wireframe(w0, w1, J);\n",
        "\n",
        "costplot(X_norm, y_norm, w, costs[-1] )"
      ],
      "execution_count": null,
      "outputs": []
    },
    {
      "cell_type": "markdown",
      "metadata": {
        "id": "o87ywOjSzVrL"
      },
      "source": [
        "学習率$\\alpha$やエポック数を変更して、その時の最終的なパラメータ、コスト関数の値をそれぞれ観察してください。\n",
        "\n",
        "コスト関数の値が十分に収束した時の学習率、エポック数で学習されたパラメータを用いて回帰直線を可視化してください。"
      ]
    },
    {
      "cell_type": "code",
      "metadata": {
        "id": "V7YsHkZUzVrL"
      },
      "source": [
        "n_iter = #エポック数\n",
        "alpha = #学習率\n",
        "costs, w = graddes(X_norm, y_norm, alpha, n_iter)\n",
        "print(costs[-1]) # コスト関数の値\n",
        "print(w) # 推定されたパラメータ\n",
        "\n",
        "# エポック数 vs. コスト関数\n",
        "plt.figure(figsize=(7,5))\n",
        "plt.ylabel('Cost')\n",
        "plt.xlabel('Iteration');\n",
        "plt.plot(range(1,n_iter+1),costs);\n",
        "\n",
        "# 回帰直線\n",
        "lineplot(X_norm, y_norm, w)\n",
        "\n",
        "# コスト関数\n",
        "costplot(X_norm, y_norm, w, costs[-1] )"
      ],
      "execution_count": null,
      "outputs": []
    }
  ]
}